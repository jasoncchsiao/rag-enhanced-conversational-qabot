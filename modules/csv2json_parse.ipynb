{
 "cells": [
  {
   "cell_type": "code",
   "execution_count": null,
   "id": "b9eb79e4",
   "metadata": {},
   "outputs": [],
   "source": [
    "import numpy as np \n",
    "import pandas as pd \n",
    "import json \n",
    "\n",
    "data_path = 'question_generator/qa_gen/data_0.csv'\n",
    "data = pd.read_csv(data_path)\n",
    "data.head()"
   ]
  },
  {
   "cell_type": "code",
   "execution_count": null,
   "id": "44e37126",
   "metadata": {},
   "outputs": [],
   "source": [
    "##### IMPORTANT #########\n",
    "import ast \n",
    "print('Before', type(data.answers[0]))\n",
    "data['answers'] = data.loc[data['answers'].str.startswith('defaultdict', na=False), 'answers'] \\\n",
    "                      .str.extract('({.*})', expand=False) \\\n",
    "                      .apply(ast.literal_eval)\n",
    "print('After', type(data.answers[0]))\n",
    "\n",
    "# Before <class 'str'>\n",
    "# After <class 'dict'>"
   ]
  },
  {
   "cell_type": "code",
   "execution_count": null,
   "id": "2b482f45",
   "metadata": {},
   "outputs": [],
   "source": [
    "for i, row in enumerate(data.values.tolist()):\n",
    "    if i == 0:\n",
    "        print(row)"
   ]
  },
  {
   "cell_type": "code",
   "execution_count": null,
   "id": "50f436e2",
   "metadata": {},
   "outputs": [],
   "source": [
    "hashmaps = []\n",
    "columns = data.columns \n",
    "for row in data.values.tolist():\n",
    "    hashmap = {}\n",
    "    for i, c in enumerate(columns):\n",
    "        hashmap[c] = row[i]\n",
    "    hashmaps.append(hashmap)"
   ]
  },
  {
   "cell_type": "code",
   "execution_count": null,
   "id": "624a5ee3",
   "metadata": {},
   "outputs": [],
   "source": [
    "hashmaps.__len__()\n",
    "# 616"
   ]
  },
  {
   "cell_type": "code",
   "execution_count": null,
   "id": "60f3a1b6",
   "metadata": {},
   "outputs": [],
   "source": [
    "import os \n",
    "dir_paths = ['/quetion_generator/qa_gen/', 'question_generator/qa_gen2/']\n",
    "filenames = []\n",
    "for dir_path in dir_paths:\n",
    "    for i, (root, dirs, files) in enumerate(os.walk(dir_path)):\n",
    "        if root != dir_path:\n",
    "            continue \n",
    "        for name in files:\n",
    "            file_name = os.path.join(root, name)\n",
    "            filenames.append(file_name)\n",
    "filenames \n"
   ]
  },
  {
   "cell_type": "code",
   "execution_count": null,
   "id": "34e57ad1",
   "metadata": {},
   "outputs": [],
   "source": []
  },
  {
   "cell_type": "code",
   "execution_count": null,
   "id": "8f1291b6",
   "metadata": {},
   "outputs": [],
   "source": []
  },
  {
   "cell_type": "code",
   "execution_count": null,
   "id": "50ec95b0",
   "metadata": {},
   "outputs": [],
   "source": []
  },
  {
   "cell_type": "code",
   "execution_count": null,
   "id": "142c1ecd",
   "metadata": {},
   "outputs": [],
   "source": []
  }
 ],
 "metadata": {
  "kernelspec": {
   "display_name": "Python 3 (ipykernel)",
   "language": "python",
   "name": "python3"
  },
  "language_info": {
   "codemirror_mode": {
    "name": "ipython",
    "version": 3
   },
   "file_extension": ".py",
   "mimetype": "text/x-python",
   "name": "python",
   "nbconvert_exporter": "python",
   "pygments_lexer": "ipython3",
   "version": "3.9.13"
  }
 },
 "nbformat": 4,
 "nbformat_minor": 5
}
